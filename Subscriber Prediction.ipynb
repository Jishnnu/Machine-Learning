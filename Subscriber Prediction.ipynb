{
 "cells": [
  {
   "cell_type": "code",
   "execution_count": 1,
   "id": "a4f4bd8f-a704-46f4-8477-d8e760142956",
   "metadata": {},
   "outputs": [],
   "source": [
    "import numpy as np\n",
    "import pandas as pd \n",
    "import matplotlib.pyplot as plt\n",
    "import seaborn as sns\n",
    "import tensorflow as tf\n",
    "import warnings\n",
    "warnings.filterwarnings(\"ignore\")\n",
    "%matplotlib inline\n",
    "\n",
    "from sklearn import metrics\n",
    "from sklearn.metrics import accuracy_score, log_loss,balanced_accuracy_score\n",
    "from sklearn.model_selection import train_test_split\n",
    "from sklearn.preprocessing import KBinsDiscretizer\n",
    "from sklearn.naive_bayes import GaussianNB\n",
    "from sklearn.linear_model import LogisticRegression\n",
    "from sklearn.ensemble import RandomForestClassifier,AdaBoostClassifier,GradientBoostingClassifier\n",
    "from sklearn.neighbors import KNeighborsClassifier\n",
    "from sklearn.svm import SVC\n",
    "from sklearn.naive_bayes import GaussianNB\n",
    "from sklearn.tree import DecisionTreeClassifier"
   ]
  },
  {
   "cell_type": "code",
   "execution_count": 2,
   "id": "0657ca6c",
   "metadata": {},
   "outputs": [],
   "source": [
    "df_bank_train = pd.read_csv(\"/MachineHack/Input Dataset/train.csv\")\n",
    "df_bank_test = pd.read_csv(\"/MachineHack/Input Dataset/test.csv\")"
   ]
  },
  {
   "cell_type": "markdown",
   "id": "4046b882-e82a-428e-8c03-6566d74fb67a",
   "metadata": {},
   "source": [
    "# Using Training Dataset"
   ]
  },
  {
   "cell_type": "code",
   "execution_count": 3,
   "id": "836a8d87",
   "metadata": {},
   "outputs": [
    {
     "data": {
      "text/plain": [
       "age          False\n",
       "job          False\n",
       "marital      False\n",
       "education    False\n",
       "default      False\n",
       "balance      False\n",
       "housing      False\n",
       "loan         False\n",
       "contact      False\n",
       "day          False\n",
       "month        False\n",
       "duration     False\n",
       "campaign     False\n",
       "pdays        False\n",
       "previous     False\n",
       "poutcome     False\n",
       "y_bool       False\n",
       "dtype: bool"
      ]
     },
     "execution_count": 3,
     "metadata": {},
     "output_type": "execute_result"
    }
   ],
   "source": [
    "df_bank_train.isnull().any()"
   ]
  },
  {
   "cell_type": "code",
   "execution_count": 4,
   "id": "9ef04019",
   "metadata": {},
   "outputs": [],
   "source": [
    "# Preprocessing Dataset : Age\n",
    "\n",
    "age_rank = KBinsDiscretizer(n_bins=5,strategy='quantile',encode='ordinal')\n",
    "age_rank.fit(df_bank_train[['age']])\n",
    "age_rank.fit(df_bank_test[['age']])\n",
    "\n",
    "df_bank_train['age_rank'] = age_rank.transform(df_bank_train[['age']])\n",
    "df_bank_test['age_rank'] = age_rank.transform(df_bank_test[['age']])\n",
    "\n",
    "age_rank.bin_edges_\n",
    "\n",
    "def age_group(age):\n",
    "    if age < 25:\n",
    "        return 'Youth'\n",
    "    elif age >= 25 and age < 64:\n",
    "        return 'Adult'\n",
    "    else:\n",
    "        return 'Senior'\n",
    "    \n",
    "df_bank_train['age_group'] = df_bank_train['age'].map(age_group)\n",
    "df_bank_test['age_group'] = df_bank_test['age'].map(age_group)"
   ]
  },
  {
   "cell_type": "code",
   "execution_count": 5,
   "id": "23d205f0",
   "metadata": {},
   "outputs": [],
   "source": [
    "# Preprocessing Dataset : Job\n",
    "\n",
    "def job_category(job):\n",
    "    if job in ['self-employed','housemaid','entrepreneur']:\n",
    "        return 'self_employed'\n",
    "    elif job in ['unknown','unemployed','student']:\n",
    "        return 'unemployed'\n",
    "    elif job in ['blue-collar','services']:\n",
    "        return 'blue_collar'\n",
    "    else:\n",
    "        return job\n",
    "    \n",
    "df_bank_train['job_category'] = df_bank_train['job'].map(job_category)\n",
    "df_bank_test['job_category'] = df_bank_test['job'].map(job_category)"
   ]
  },
  {
   "cell_type": "code",
   "execution_count": 6,
   "id": "de0a476a",
   "metadata": {},
   "outputs": [],
   "source": [
    "# Preprocessing Dataset : Balance\n",
    "\n",
    "df_bank_train['balance_pos']=df_bank_train['balance'].apply(lambda x: 'Yes' if x > 0 else 'No')\n",
    "df_bank_test['balance_pos']=df_bank_test['balance'].apply(lambda x: 'Yes' if x > 0 else 'No')\n",
    "\n",
    "balance_rank = KBinsDiscretizer(n_bins=10,strategy='quantile',encode='ordinal')\n",
    "balance_rank.fit(df_bank_train[['balance']])\n",
    "balance_rank.fit(df_bank_test[['balance']])\n",
    "\n",
    "df_bank_train['balance_rank'] = balance_rank.transform(df_bank_train[['balance']])\n",
    "df_bank_test['balance_rank'] = balance_rank.transform(df_bank_test[['balance']])\n",
    "balance_rank.bin_edges_\n",
    "\n",
    "def balance_range(bal):\n",
    "    if bal < 25:\n",
    "        return 'Low'\n",
    "    elif bal >= 25 and bal < 500:\n",
    "        return 'Medium'\n",
    "    elif bal >= 500 and bal < 2000:\n",
    "        return 'High'\n",
    "    else:\n",
    "        return 'Very-High'\n",
    "    \n",
    "    \n",
    "df_bank_train['balance_range'] = df_bank_train['balance'].map(balance_range)\n",
    "df_bank_test['balance_range'] = df_bank_test['balance'].map(balance_range)"
   ]
  },
  {
   "cell_type": "code",
   "execution_count": 7,
   "id": "4141b736",
   "metadata": {},
   "outputs": [],
   "source": [
    "# Preprocessing Dataset : Day\n",
    "\n",
    "def week(day):\n",
    "    if day < 8:\n",
    "        return 'Week_1'\n",
    "    elif day >= 8 and day < 15:\n",
    "        return 'Week_2'\n",
    "    elif day >= 15 and day < 22:\n",
    "        return 'Week_3'\n",
    "    else:\n",
    "        return 'Week_4'\n",
    "    \n",
    "df_bank_train['week'] = df_bank_train['day'].map(week)\n",
    "df_bank_test['week'] = df_bank_test['day'].map(week)"
   ]
  },
  {
   "cell_type": "code",
   "execution_count": 8,
   "id": "899e0dd9",
   "metadata": {},
   "outputs": [],
   "source": [
    "# Preprocessing Dataset : Day\n",
    "\n",
    "df_bank_train['duration'] = df_bank_train['duration'] / 60\n",
    "df_bank_test['duration'] = df_bank_test['duration'] / 60\n",
    "\n",
    "duration_rank = KBinsDiscretizer(n_bins=5,strategy='quantile',encode='ordinal')\n",
    "\n",
    "duration_rank.fit(df_bank_train[['duration']])\n",
    "duration_rank.fit(df_bank_test[['duration']])\n",
    "\n",
    "df_bank_train['duration_rank'] = duration_rank.transform(df_bank_train[['duration']])\n",
    "df_bank_test['duration_rank'] = duration_rank.transform(df_bank_test[['duration']])\n",
    "duration_rank.bin_edges_\n",
    "\n",
    "def call_time(time):\n",
    "    if time < 1:\n",
    "        return '<1min'\n",
    "    elif time >= 1 and time < 3:\n",
    "        return '1-2min'\n",
    "    elif time >= 3 and time <= 10:\n",
    "        return '3-10min'\n",
    "    else:\n",
    "        return '>10 min'\n",
    "    \n",
    "df_bank_train['call_duration'] = df_bank_train['duration'].map(call_time)\n",
    "df_bank_test['call_duration'] = df_bank_test['duration'].map(call_time)"
   ]
  },
  {
   "cell_type": "code",
   "execution_count": 9,
   "id": "ec49925a",
   "metadata": {},
   "outputs": [],
   "source": [
    "# Preprocessing Dataset : PDays\n",
    "\n",
    "df_bank_train['customer_segment'] = df_bank_train['pdays'].apply(lambda x:'New_Customer' if x == -1 else 'Old_Customer')\n",
    "df_bank_test['customer_segment'] = df_bank_test['pdays'].apply(lambda x:'New_Customer' if x == -1 else 'Old_Customer')"
   ]
  },
  {
   "cell_type": "code",
   "execution_count": 10,
   "id": "ddc84929",
   "metadata": {},
   "outputs": [],
   "source": [
    "features = ['age','job_category','marital','education','balance','housing','loan','contact','month','duration','campaign',\n",
    "            'poutcome','age_group','balance_range','week','call_duration','customer_segment']\n",
    "\n",
    "X = df_bank_train[features]\n",
    "Z = df_bank_test[features]\n",
    "y = df_bank_train['y_bool']\n",
    "\n",
    "# Split\n",
    "X_train,X_test,y_train,y_test = train_test_split(X,y,test_size=0.4286,random_state=42)"
   ]
  },
  {
   "cell_type": "code",
   "execution_count": 11,
   "id": "ec8cfa43",
   "metadata": {},
   "outputs": [
    {
     "data": {
      "text/plain": [
       "Text(0.5, 1.0, 'Before Outlier Capping')"
      ]
     },
     "execution_count": 11,
     "metadata": {},
     "output_type": "execute_result"
    },
    {
     "data": {
      "image/png": "[encoded data removed]",
      "text/plain": [
       "<Figure size 432x288 with 1 Axes>"
      ]
     },
     "metadata": {
      "needs_background": "light"
     },
     "output_type": "display_data"
    }
   ],
   "source": [
    "# Before Capping Outliers\n",
    "\n",
    "def outlier_capping(df,col):\n",
    "\n",
    "        q1 = df_bank_train[col].quantile(0.25)\n",
    "        q3 = df_bank_train[col].quantile(0.75)\n",
    "        iqr = q3 - q1\n",
    "        \n",
    "        upper_whisker = q3 + 1.5 * iqr\n",
    "        lower_whisker = q1- 1.5 * iqr\n",
    "        \n",
    "        df_bank_train[col] = np.where(df_bank_train[col] > upper_whisker,upper_whisker,np.where(df_bank_train[col] < lower_whisker,lower_whisker,df_bank_train[col]))\n",
    "        \n",
    "sns.boxplot(X_train['balance'])\n",
    "plt.title('Before Outlier Capping')"
   ]
  },
  {
   "cell_type": "code",
   "execution_count": 12,
   "id": "a496cbd6",
   "metadata": {
    "scrolled": true
   },
   "outputs": [
    {
     "data": {
      "text/plain": [
       "Text(0.5, 1.0, 'After Outlier Capping')"
      ]
     },
     "execution_count": 12,
     "metadata": {},
     "output_type": "execute_result"
    },
    {
     "data": {
      "image/png": "[encoded data removed]",
      "text/plain": [
       "<Figure size 432x288 with 1 Axes>"
      ]
     },
     "metadata": {
      "needs_background": "light"
     },
     "output_type": "display_data"
    }
   ],
   "source": [
    "# After Capping Outliers\n",
    "\n",
    "outlier_cols = ['age','balance','duration','campaign']\n",
    "for col in outlier_cols:\n",
    "    outlier_capping(X_train,col)\n",
    "    \n",
    "outlier_cols=['age','balance','duration','campaign']\n",
    "for col in outlier_cols:\n",
    "    outlier_capping(X,col)\n",
    "    \n",
    "sns.boxplot(X_train['balance'])\n",
    "plt.title('After Outlier Capping')    "
   ]
  },
  {
   "cell_type": "code",
   "execution_count": 13,
   "id": "86909809",
   "metadata": {},
   "outputs": [],
   "source": [
    "# Creating Dummies\n",
    "\n",
    "X_train = pd.get_dummies(X_train,columns=['job_category', 'marital', 'education','housing', 'loan',\n",
    "                                        'contact', 'month','poutcome','age_group','balance_range', 'week',\n",
    "                                        'call_duration', 'customer_segment'], drop_first=False)\n",
    "\n",
    "X = pd.get_dummies(X,columns=['job_category', 'marital', 'education','housing', 'loan',\n",
    "                                        'contact', 'month','poutcome','age_group','balance_range', 'week',\n",
    "                                        'call_duration', 'customer_segment'], drop_first=False)"
   ]
  },
  {
   "cell_type": "code",
   "execution_count": 14,
   "id": "b9a9ae16",
   "metadata": {},
   "outputs": [
    {
     "name": "stdout",
     "output_type": "stream",
     "text": [
      "<class 'pandas.core.frame.DataFrame'>\n",
      "RangeIndex: 21000 entries, 0 to 20999\n",
      "Data columns (total 58 columns):\n",
      " #   Column                         Non-Null Count  Dtype  \n",
      "---  ------                         --------------  -----  \n",
      " 0   age                            21000 non-null  int64  \n",
      " 1   balance                        21000 non-null  int64  \n",
      " 2   duration                       21000 non-null  float64\n",
      " 3   campaign                       21000 non-null  int64  \n",
      " 4   job_category_admin.            21000 non-null  uint8  \n",
      " 5   job_category_blue_collar       21000 non-null  uint8  \n",
      " 6   job_category_management        21000 non-null  uint8  \n",
      " 7   job_category_retired           21000 non-null  uint8  \n",
      " 8   job_category_self_employed     21000 non-null  uint8  \n",
      " 9   job_category_technician        21000 non-null  uint8  \n",
      " 10  job_category_unemployed        21000 non-null  uint8  \n",
      " 11  marital_divorced               21000 non-null  uint8  \n",
      " 12  marital_married                21000 non-null  uint8  \n",
      " 13  marital_single                 21000 non-null  uint8  \n",
      " 14  education_primary              21000 non-null  uint8  \n",
      " 15  education_secondary            21000 non-null  uint8  \n",
      " 16  education_tertiary             21000 non-null  uint8  \n",
      " 17  education_unknown              21000 non-null  uint8  \n",
      " 18  housing_no                     21000 non-null  uint8  \n",
      " 19  housing_yes                    21000 non-null  uint8  \n",
      " 20  loan_no                        21000 non-null  uint8  \n",
      " 21  loan_yes                       21000 non-null  uint8  \n",
      " 22  contact_cellular               21000 non-null  uint8  \n",
      " 23  contact_telephone              21000 non-null  uint8  \n",
      " 24  contact_unknown                21000 non-null  uint8  \n",
      " 25  month_apr                      21000 non-null  uint8  \n",
      " 26  month_aug                      21000 non-null  uint8  \n",
      " 27  month_dec                      21000 non-null  uint8  \n",
      " 28  month_feb                      21000 non-null  uint8  \n",
      " 29  month_jan                      21000 non-null  uint8  \n",
      " 30  month_jul                      21000 non-null  uint8  \n",
      " 31  month_jun                      21000 non-null  uint8  \n",
      " 32  month_mar                      21000 non-null  uint8  \n",
      " 33  month_may                      21000 non-null  uint8  \n",
      " 34  month_nov                      21000 non-null  uint8  \n",
      " 35  month_oct                      21000 non-null  uint8  \n",
      " 36  month_sep                      21000 non-null  uint8  \n",
      " 37  poutcome_failure               21000 non-null  uint8  \n",
      " 38  poutcome_other                 21000 non-null  uint8  \n",
      " 39  poutcome_success               21000 non-null  uint8  \n",
      " 40  poutcome_unknown               21000 non-null  uint8  \n",
      " 41  age_group_Adult                21000 non-null  uint8  \n",
      " 42  age_group_Senior               21000 non-null  uint8  \n",
      " 43  age_group_Youth                21000 non-null  uint8  \n",
      " 44  balance_range_High             21000 non-null  uint8  \n",
      " 45  balance_range_Low              21000 non-null  uint8  \n",
      " 46  balance_range_Medium           21000 non-null  uint8  \n",
      " 47  balance_range_Very-High        21000 non-null  uint8  \n",
      " 48  week_Week_1                    21000 non-null  uint8  \n",
      " 49  week_Week_2                    21000 non-null  uint8  \n",
      " 50  week_Week_3                    21000 non-null  uint8  \n",
      " 51  week_Week_4                    21000 non-null  uint8  \n",
      " 52  call_duration_1-2min           21000 non-null  uint8  \n",
      " 53  call_duration_3-10min          21000 non-null  uint8  \n",
      " 54  call_duration_<1min            21000 non-null  uint8  \n",
      " 55  call_duration_>10 min          21000 non-null  uint8  \n",
      " 56  customer_segment_New_Customer  21000 non-null  uint8  \n",
      " 57  customer_segment_Old_Customer  21000 non-null  uint8  \n",
      "dtypes: float64(1), int64(3), uint8(54)\n",
      "memory usage: 1.7 MB\n"
     ]
    }
   ],
   "source": [
    "X.info()"
   ]
  },
  {
   "cell_type": "code",
   "execution_count": 15,
   "id": "2da109a3-b5a8-43c8-a792-180397976000",
   "metadata": {},
   "outputs": [],
   "source": [
    "#categories = ['job','marital','education','default','housing','loan','contact','month','day','poutcome','y_bool']\n",
    "#for col in categories:\n",
    "#plt.figure(figsize=(11,6))\n",
    "#col = 'loan'\n",
    "#sns.barplot(df_bank_train[col].value_counts(),df_bank_train[col].value_counts().index, data=df_bank_train)\n",
    "#plt.title(col)\n",
    "#plt.tight_layout()"
   ]
  },
  {
   "cell_type": "code",
   "execution_count": 16,
   "id": "410fe2f3",
   "metadata": {},
   "outputs": [
    {
     "data": {
      "text/plain": [
       "(21000, 47)"
      ]
     },
     "execution_count": 16,
     "metadata": {},
     "output_type": "execute_result"
    }
   ],
   "source": [
    "# Removing unwanted fields\n",
    "\n",
    "X_train.drop(columns=['job_category_unemployed','education_unknown','contact_unknown','month_dec',                      \n",
    "                      'poutcome_unknown','age_group_Youth','balance_range_Low','week_Week_1',\n",
    "                      'call_duration_1-2min','call_duration_<1min','customer_segment_New_Customer'], inplace=True)\n",
    "\n",
    "X.drop(columns=['job_category_unemployed','education_unknown','contact_unknown','month_dec',\n",
    "                'poutcome_unknown','age_group_Youth','balance_range_Low','week_Week_1',\n",
    "                'call_duration_1-2min','call_duration_<1min','customer_segment_New_Customer'], inplace=True)\n",
    "\n",
    "X.shape"
   ]
  },
  {
   "cell_type": "code",
   "execution_count": 17,
   "id": "f523aa85",
   "metadata": {},
   "outputs": [
    {
     "data": {
      "text/plain": [
       "0.7201433452787732"
      ]
     },
     "execution_count": 17,
     "metadata": {},
     "output_type": "execute_result"
    }
   ],
   "source": [
    "# Random Forest Classification\n",
    "\n",
    "random_forest = RandomForestClassifier(n_jobs=-1,oob_score=True)\n",
    "random_forest.fit(X_train,y_train)\n",
    "random_forest.oob_score_"
   ]
  },
  {
   "cell_type": "code",
   "execution_count": 18,
   "id": "ebb5309f",
   "metadata": {},
   "outputs": [
    {
     "data": {
      "text/plain": [
       "<matplotlib.legend.Legend at 0x138ab90ba90>"
      ]
     },
     "execution_count": 18,
     "metadata": {},
     "output_type": "execute_result"
    },
    {
     "data": {
      "image/png": "[encoded data removed]",
      "text/plain": [
       "<Figure size 720x1440 with 1 Axes>"
      ]
     },
     "metadata": {
      "needs_background": "light"
     },
     "output_type": "display_data"
    }
   ],
   "source": [
    "# Mapping Feature Importance\n",
    "\n",
    "random_forest.feature_importances_\n",
    "feature_importance = pd .DataFrame(data=random_forest.feature_importances_,index=X_train.columns,columns=['Feature Importance'])\n",
    "feature_importance.sort_values('Feature Importance').plot(kind='barh',title='Feature Importance',figsize=(10,20)).legend(loc='right')"
   ]
  },
  {
   "cell_type": "code",
   "execution_count": 19,
   "id": "885d7dbf",
   "metadata": {},
   "outputs": [
    {
     "data": {
      "text/plain": [
       "['age',\n",
       " 'balance',\n",
       " 'duration',\n",
       " 'campaign',\n",
       " 'job_category_blue_collar',\n",
       " 'job_category_technician',\n",
       " 'marital_married',\n",
       " 'education_secondary',\n",
       " 'education_tertiary',\n",
       " 'contact_cellular',\n",
       " 'month_jul',\n",
       " 'poutcome_failure',\n",
       " 'week_Week_2',\n",
       " 'week_Week_3',\n",
       " 'call_duration_3-10min']"
      ]
     },
     "execution_count": 19,
     "metadata": {},
     "output_type": "execute_result"
    }
   ],
   "source": [
    "# Feature List \n",
    "\n",
    "feature_list = feature_importance[feature_importance['Feature Importance'] > 0.016].index\n",
    "feature_list = feature_list.to_list()\n",
    "feature_list"
   ]
  },
  {
   "cell_type": "code",
   "execution_count": 20,
   "id": "c27ee894",
   "metadata": {},
   "outputs": [],
   "source": [
    "# Feature Mapping\n",
    "\n",
    "X_train = X_train[feature_list]\n",
    "X = X[feature_list]\n",
    "\n",
    "outlier_cols=['age','balance','duration','campaign']\n",
    "for col in outlier_cols:\n",
    "    outlier_capping(X_test,col)\n",
    "\n",
    "X_test=pd.get_dummies(X_test,columns=['job_category', 'marital', 'education','housing', 'loan','contact', 'month','poutcome','age_group','balance_range', 'week', 'call_duration', 'customer_segment'], drop_first=False)\n",
    "\n",
    "X_test = X_test[feature_list]"
   ]
  },
  {
   "cell_type": "markdown",
   "id": "9e900280",
   "metadata": {},
   "source": [
    "### Model Fitting & Metric Description"
   ]
  },
  {
   "cell_type": "code",
   "execution_count": 21,
   "id": "5c87ec01",
   "metadata": {},
   "outputs": [],
   "source": [
    "def accuracy_func(model,X_test,y_test):\n",
    "    y_pred = model.predict(X_test)\n",
    "    print(y_pred.sum())\n",
    "    accuracy = accuracy_score(y_test,y_pred)\n",
    "    balanced_accuracy = balanced_accuracy_score(y_test,y_pred)\n",
    "    log_loss_score = log_loss(y_test,y_pred)\n",
    "    \n",
    "    print('Accuracy: {}'.format(accuracy))\n",
    "    print('Balanced Accuracy: {}'.format(balanced_accuracy))\n",
    "    print('Log Loss: {}'.format(log_loss_score))"
   ]
  },
  {
   "cell_type": "code",
   "execution_count": 22,
   "id": "d9a6c4f6",
   "metadata": {},
   "outputs": [
    {
     "name": "stdout",
     "output_type": "stream",
     "text": [
      "0\n",
      "Accuracy: 0.7310298855682702\n",
      "Balanced Accuracy: 0.5\n",
      "Log Loss: 9.289898639271055\n"
     ]
    }
   ],
   "source": [
    "# Random Forest Classification\n",
    "random_forest = RandomForestClassifier(n_estimators=100,max_depth=5,n_jobs=-1,random_state=50)\n",
    "random_forest.fit(X_train,y_train)\n",
    "accuracy_func(random_forest,X_test,y_test)"
   ]
  },
  {
   "cell_type": "code",
   "execution_count": 23,
   "id": "c9c41804",
   "metadata": {},
   "outputs": [
    {
     "name": "stdout",
     "output_type": "stream",
     "text": [
      "0\n",
      "Accuracy: 0.7310298855682702\n",
      "Balanced Accuracy: 0.5\n",
      "Log Loss: 9.289898639271055\n"
     ]
    }
   ],
   "source": [
    "# Logistic Regression\n",
    "logistic_regression = LogisticRegression(random_state=50)\n",
    "logistic_regression.fit(X_train,y_train)\n",
    "\n",
    "accuracy_func(logistic_regression,X_test,y_test)"
   ]
  },
  {
   "cell_type": "code",
   "execution_count": 24,
   "id": "dd1e9336",
   "metadata": {},
   "outputs": [
    {
     "name": "stdout",
     "output_type": "stream",
     "text": [
      "11\n",
      "Accuracy: 0.731807576935896\n",
      "Balanced Accuracy: 0.5017067603755889\n",
      "Log Loss: 9.263038308688952\n"
     ]
    }
   ],
   "source": [
    "# Ada Boost\n",
    "ada_boost = AdaBoostClassifier(n_estimators=100,random_state=50)\n",
    "ada_boost.fit(X_train,y_train)\n",
    "\n",
    "accuracy_func(ada_boost,X_test,y_test)"
   ]
  },
  {
   "cell_type": "code",
   "execution_count": 25,
   "id": "df739891",
   "metadata": {},
   "outputs": [
    {
     "name": "stdout",
     "output_type": "stream",
     "text": [
      "2649\n",
      "Accuracy: 0.5918231307632486\n",
      "Balanced Accuracy: 0.49590302808882264\n",
      "Log Loss: 14.098102931839591\n"
     ]
    }
   ],
   "source": [
    "# Decision Tree\n",
    "\n",
    "dtree = DecisionTreeClassifier(criterion='gini') \n",
    "dtree.fit(X_train,y_train)\n",
    "accuracy_func(dtree,X_test,y_test)"
   ]
  },
  {
   "cell_type": "code",
   "execution_count": 26,
   "id": "e8d5d30d",
   "metadata": {},
   "outputs": [
    {
     "name": "stdout",
     "output_type": "stream",
     "text": [
      "75\n",
      "Accuracy: 0.728252416398178\n",
      "Balanced Accuracy: 0.5013637636235121\n",
      "Log Loss: 9.385833467595049\n"
     ]
    }
   ],
   "source": [
    "# KNN\n",
    "\n",
    "knn = KNeighborsClassifier(n_neighbors=22)\n",
    "knn.fit(X_train,y_train)\n",
    "accuracy_func(knn,X_test,y_test)"
   ]
  },
  {
   "cell_type": "code",
   "execution_count": 27,
   "id": "2801cc20",
   "metadata": {},
   "outputs": [
    {
     "name": "stdout",
     "output_type": "stream",
     "text": [
      "2454\n",
      "Accuracy: 0.5970447728030219\n",
      "Balanced Accuracy: 0.489814616030704\n",
      "Log Loss: 13.917743056064694\n"
     ]
    }
   ],
   "source": [
    "# SVC\n",
    "\n",
    "svc= SVC(kernel = 'sigmoid')\n",
    "svc.fit(X_train,y_train)\n",
    "accuracy_func(svc,X_test,y_test)"
   ]
  },
  {
   "cell_type": "code",
   "execution_count": 28,
   "id": "20ffb0e5",
   "metadata": {},
   "outputs": [
    {
     "name": "stdout",
     "output_type": "stream",
     "text": [
      "99\n",
      "Accuracy: 0.7260304410621042\n",
      "Balanced Accuracy: 0.5001050835583779\n",
      "Log Loss: 9.462579731237055\n"
     ]
    }
   ],
   "source": [
    "# Gradient Boost\n",
    "\n",
    "gradient_boost = GradientBoostingClassifier(n_estimators = 100, learning_rate = 0.09, max_depth=5)\n",
    "gradient_boost.fit(X_train,y_train)\n",
    "accuracy_func(gradient_boost,X_test,y_test)"
   ]
  },
  {
   "cell_type": "code",
   "execution_count": 29,
   "id": "c74e10b3",
   "metadata": {},
   "outputs": [
    {
     "name": "stdout",
     "output_type": "stream",
     "text": [
      "99\n",
      "Accuracy: 0.7260304410621042\n",
      "Balanced Accuracy: 0.5001050835583779\n",
      "Log Loss: 9.462579731237055\n"
     ]
    }
   ],
   "source": [
    "# Naive Bayes\n",
    "\n",
    "gaussian_nb= GaussianNB()\n",
    "gaussian_nb.fit(X_train,y_train)\n",
    "accuracy_func(gradient_boost,X_test,y_test)"
   ]
  },
  {
   "cell_type": "code",
   "execution_count": 30,
   "id": "2058af66-3963-4c00-8856-b6c1f4ffb9a2",
   "metadata": {},
   "outputs": [
    {
     "name": "stdout",
     "output_type": "stream",
     "text": [
      "Epoch 1/150\n",
      "375/375 [==============================] - 1s 1ms/step - loss: 1.2499 - accuracy: 0.6370\n",
      "Epoch 2/150\n",
      "375/375 [==============================] - 0s 1ms/step - loss: 0.6871 - accuracy: 0.7129\n",
      "Epoch 3/150\n",
      "375/375 [==============================] - 0s 1ms/step - loss: 0.6957 - accuracy: 0.7126\n",
      "Epoch 4/150\n",
      "375/375 [==============================] - 0s 1ms/step - loss: 0.6584 - accuracy: 0.7158\n",
      "Epoch 5/150\n",
      "375/375 [==============================] - 0s 1ms/step - loss: 0.6361 - accuracy: 0.7185\n",
      "Epoch 6/150\n",
      "375/375 [==============================] - 0s 1ms/step - loss: 0.6381 - accuracy: 0.7222\n",
      "Epoch 7/150\n",
      "375/375 [==============================] - 0s 1ms/step - loss: 0.6341 - accuracy: 0.7198\n",
      "Epoch 8/150\n",
      "375/375 [==============================] - 0s 1ms/step - loss: 0.6546 - accuracy: 0.7182\n",
      "Epoch 9/150\n",
      "375/375 [==============================] - 0s 1ms/step - loss: 0.6082 - accuracy: 0.7254\n",
      "Epoch 10/150\n",
      "375/375 [==============================] - 0s 1ms/step - loss: 0.6237 - accuracy: 0.7223\n",
      "Epoch 11/150\n",
      "375/375 [==============================] - 0s 1ms/step - loss: 0.6019 - accuracy: 0.7277\n",
      "Epoch 12/150\n",
      "375/375 [==============================] - 0s 1ms/step - loss: 0.7114 - accuracy: 0.7167\n",
      "Epoch 13/150\n",
      "375/375 [==============================] - 0s 1ms/step - loss: 0.6597 - accuracy: 0.7162\n",
      "Epoch 14/150\n",
      "375/375 [==============================] - 0s 1ms/step - loss: 0.6016 - accuracy: 0.7240\n",
      "Epoch 15/150\n",
      "375/375 [==============================] - 0s 1ms/step - loss: 0.5934 - accuracy: 0.7279\n",
      "Epoch 16/150\n",
      "375/375 [==============================] - 0s 1ms/step - loss: 0.5936 - accuracy: 0.7266\n",
      "Epoch 17/150\n",
      "375/375 [==============================] - 0s 1ms/step - loss: 0.6043 - accuracy: 0.7259\n",
      "Epoch 18/150\n",
      "375/375 [==============================] - 0s 1ms/step - loss: 0.6374 - accuracy: 0.7192\n",
      "Epoch 19/150\n",
      "375/375 [==============================] - 0s 1ms/step - loss: 0.5877 - accuracy: 0.7296\n",
      "Epoch 20/150\n",
      "375/375 [==============================] - 0s 1ms/step - loss: 0.5932 - accuracy: 0.7272\n",
      "Epoch 21/150\n",
      "375/375 [==============================] - 0s 1ms/step - loss: 0.6163 - accuracy: 0.7231\n",
      "Epoch 22/150\n",
      "375/375 [==============================] - 0s 1ms/step - loss: 0.6122 - accuracy: 0.7224\n",
      "Epoch 23/150\n",
      "375/375 [==============================] - 0s 1ms/step - loss: 0.5986 - accuracy: 0.7262\n",
      "Epoch 24/150\n",
      "375/375 [==============================] - 0s 1ms/step - loss: 0.5911 - accuracy: 0.7274\n",
      "Epoch 25/150\n",
      "375/375 [==============================] - 0s 1ms/step - loss: 0.5856 - accuracy: 0.7302\n",
      "Epoch 26/150\n",
      "375/375 [==============================] - 0s 1ms/step - loss: 0.5840 - accuracy: 0.7307\n",
      "Epoch 27/150\n",
      "375/375 [==============================] - 0s 1ms/step - loss: 0.5828 - accuracy: 0.7308\n",
      "Epoch 28/150\n",
      "375/375 [==============================] - 0s 1ms/step - loss: 0.5821 - accuracy: 0.7308\n",
      "Epoch 29/150\n",
      "375/375 [==============================] - 0s 1ms/step - loss: 0.5823 - accuracy: 0.7307\n",
      "Epoch 30/150\n",
      "375/375 [==============================] - 0s 1ms/step - loss: 0.5823 - accuracy: 0.7305\n",
      "Epoch 31/150\n",
      "375/375 [==============================] - 0s 1ms/step - loss: 0.5822 - accuracy: 0.7308\n",
      "Epoch 32/150\n",
      "375/375 [==============================] - 0s 1ms/step - loss: 0.5822 - accuracy: 0.7308\n",
      "Epoch 33/150\n",
      "375/375 [==============================] - 0s 1ms/step - loss: 0.5823 - accuracy: 0.7308\n",
      "Epoch 34/150\n",
      "375/375 [==============================] - 1s 1ms/step - loss: 0.5833 - accuracy: 0.7307\n",
      "Epoch 35/150\n",
      "375/375 [==============================] - 0s 1ms/step - loss: 0.5822 - accuracy: 0.7308\n",
      "Epoch 36/150\n",
      "375/375 [==============================] - 0s 1ms/step - loss: 0.5821 - accuracy: 0.7308\n",
      "Epoch 37/150\n",
      "375/375 [==============================] - 0s 1ms/step - loss: 0.5822 - accuracy: 0.7308\n",
      "Epoch 38/150\n",
      "375/375 [==============================] - 0s 1ms/step - loss: 0.5821 - accuracy: 0.7306\n",
      "Epoch 39/150\n",
      "375/375 [==============================] - 0s 1ms/step - loss: 0.5819 - accuracy: 0.7308\n",
      "Epoch 40/150\n",
      "375/375 [==============================] - 0s 1ms/step - loss: 0.5821 - accuracy: 0.7308\n",
      "Epoch 41/150\n",
      "375/375 [==============================] - 0s 1ms/step - loss: 0.5822 - accuracy: 0.7308\n",
      "Epoch 42/150\n",
      "375/375 [==============================] - 0s 1ms/step - loss: 0.5820 - accuracy: 0.7308\n",
      "Epoch 43/150\n",
      "375/375 [==============================] - 0s 1ms/step - loss: 0.5819 - accuracy: 0.7308\n",
      "Epoch 44/150\n",
      "375/375 [==============================] - 0s 1ms/step - loss: 0.5820 - accuracy: 0.7307\n",
      "Epoch 45/150\n",
      "375/375 [==============================] - 0s 1ms/step - loss: 0.5822 - accuracy: 0.7308\n",
      "Epoch 46/150\n",
      "375/375 [==============================] - 0s 1ms/step - loss: 0.5825 - accuracy: 0.7305\n",
      "Epoch 47/150\n",
      "375/375 [==============================] - 0s 1ms/step - loss: 0.5820 - accuracy: 0.7310\n",
      "Epoch 48/150\n",
      "375/375 [==============================] - 0s 1ms/step - loss: 0.5816 - accuracy: 0.7308\n",
      "Epoch 49/150\n",
      "375/375 [==============================] - 0s 1ms/step - loss: 0.5818 - accuracy: 0.7309\n",
      "Epoch 50/150\n",
      "375/375 [==============================] - 0s 1ms/step - loss: 0.5822 - accuracy: 0.7306\n",
      "Epoch 51/150\n",
      "375/375 [==============================] - 1s 1ms/step - loss: 0.5820 - accuracy: 0.7309\n",
      "Epoch 52/150\n",
      "375/375 [==============================] - 0s 1ms/step - loss: 0.5818 - accuracy: 0.7310\n",
      "Epoch 53/150\n",
      "375/375 [==============================] - 0s 1ms/step - loss: 0.5818 - accuracy: 0.7306\n",
      "Epoch 54/150\n",
      "375/375 [==============================] - 0s 1ms/step - loss: 0.5817 - accuracy: 0.7306\n",
      "Epoch 55/150\n",
      "375/375 [==============================] - 0s 1ms/step - loss: 0.5816 - accuracy: 0.7307\n",
      "Epoch 56/150\n",
      "375/375 [==============================] - 0s 1ms/step - loss: 0.5818 - accuracy: 0.7307\n",
      "Epoch 57/150\n",
      "375/375 [==============================] - 0s 1ms/step - loss: 0.5818 - accuracy: 0.7309\n",
      "Epoch 58/150\n",
      "375/375 [==============================] - 0s 1ms/step - loss: 0.5816 - accuracy: 0.7307\n",
      "Epoch 59/150\n",
      "375/375 [==============================] - 0s 1ms/step - loss: 0.5814 - accuracy: 0.7310\n",
      "Epoch 60/150\n",
      "375/375 [==============================] - 0s 1ms/step - loss: 0.5815 - accuracy: 0.7311\n",
      "Epoch 61/150\n",
      "375/375 [==============================] - 0s 1ms/step - loss: 0.5813 - accuracy: 0.7306\n",
      "Epoch 62/150\n",
      "375/375 [==============================] - 0s 1ms/step - loss: 0.5813 - accuracy: 0.7308\n",
      "Epoch 63/150\n",
      "375/375 [==============================] - 0s 1ms/step - loss: 0.5814 - accuracy: 0.7308\n",
      "Epoch 64/150\n",
      "375/375 [==============================] - 0s 1ms/step - loss: 0.5812 - accuracy: 0.7309\n",
      "Epoch 65/150\n",
      "375/375 [==============================] - 1s 2ms/step - loss: 0.5812 - accuracy: 0.7304\n",
      "Epoch 66/150\n",
      "375/375 [==============================] - 1s 2ms/step - loss: 0.5814 - accuracy: 0.7307\n",
      "Epoch 67/150\n",
      "375/375 [==============================] - 1s 2ms/step - loss: 0.5808 - accuracy: 0.7311\n",
      "Epoch 68/150\n",
      "375/375 [==============================] - 1s 2ms/step - loss: 0.5811 - accuracy: 0.7311\n",
      "Epoch 69/150\n",
      "375/375 [==============================] - 1s 2ms/step - loss: 0.5809 - accuracy: 0.7307\n",
      "Epoch 70/150\n",
      "375/375 [==============================] - 1s 2ms/step - loss: 0.5803 - accuracy: 0.7311\n",
      "Epoch 71/150\n",
      "375/375 [==============================] - 1s 2ms/step - loss: 0.5810 - accuracy: 0.7303\n",
      "Epoch 72/150\n",
      "375/375 [==============================] - 1s 2ms/step - loss: 0.5804 - accuracy: 0.7310\n",
      "Epoch 73/150\n",
      "375/375 [==============================] - 1s 2ms/step - loss: 0.5807 - accuracy: 0.7310\n",
      "Epoch 74/150\n",
      "375/375 [==============================] - 1s 2ms/step - loss: 0.5805 - accuracy: 0.7308\n",
      "Epoch 75/150\n",
      "375/375 [==============================] - 1s 1ms/step - loss: 0.5805 - accuracy: 0.7308\n",
      "Epoch 76/150\n",
      "375/375 [==============================] - 1s 1ms/step - loss: 0.5804 - accuracy: 0.7311\n",
      "Epoch 77/150\n",
      "375/375 [==============================] - 1s 2ms/step - loss: 0.5804 - accuracy: 0.7317\n",
      "Epoch 78/150\n",
      "375/375 [==============================] - 1s 1ms/step - loss: 0.5807 - accuracy: 0.7312\n",
      "Epoch 79/150\n",
      "375/375 [==============================] - 1s 1ms/step - loss: 0.5802 - accuracy: 0.7319\n",
      "Epoch 80/150\n",
      "375/375 [==============================] - 1s 2ms/step - loss: 0.5803 - accuracy: 0.7309\n",
      "Epoch 81/150\n",
      "375/375 [==============================] - 1s 2ms/step - loss: 0.5800 - accuracy: 0.7313\n",
      "Epoch 82/150\n",
      "375/375 [==============================] - 1s 2ms/step - loss: 0.5804 - accuracy: 0.7314\n",
      "Epoch 83/150\n",
      "375/375 [==============================] - 1s 2ms/step - loss: 0.5797 - accuracy: 0.7325\n",
      "Epoch 84/150\n",
      "375/375 [==============================] - 1s 2ms/step - loss: 0.5797 - accuracy: 0.7317\n",
      "Epoch 85/150\n",
      "375/375 [==============================] - 1s 2ms/step - loss: 0.5797 - accuracy: 0.7320\n",
      "Epoch 86/150\n",
      "375/375 [==============================] - 1s 2ms/step - loss: 0.5799 - accuracy: 0.7316\n",
      "Epoch 87/150\n",
      "375/375 [==============================] - 1s 2ms/step - loss: 0.5794 - accuracy: 0.7321\n",
      "Epoch 88/150\n",
      "375/375 [==============================] - 1s 1ms/step - loss: 0.5794 - accuracy: 0.7322\n",
      "Epoch 89/150\n",
      "375/375 [==============================] - 1s 1ms/step - loss: 0.5797 - accuracy: 0.7316\n",
      "Epoch 90/150\n",
      "375/375 [==============================] - 1s 2ms/step - loss: 0.5794 - accuracy: 0.7323\n",
      "Epoch 91/150\n",
      "375/375 [==============================] - 1s 2ms/step - loss: 0.5795 - accuracy: 0.7322\n",
      "Epoch 92/150\n",
      "375/375 [==============================] - 1s 2ms/step - loss: 0.5789 - accuracy: 0.7323\n",
      "Epoch 93/150\n",
      "375/375 [==============================] - 1s 2ms/step - loss: 0.5795 - accuracy: 0.7321\n",
      "Epoch 94/150\n",
      "375/375 [==============================] - 1s 2ms/step - loss: 0.5792 - accuracy: 0.7321\n",
      "Epoch 95/150\n",
      "375/375 [==============================] - 1s 2ms/step - loss: 0.5793 - accuracy: 0.7318\n",
      "Epoch 96/150\n",
      "375/375 [==============================] - 1s 2ms/step - loss: 0.5786 - accuracy: 0.7326\n",
      "Epoch 97/150\n",
      "375/375 [==============================] - 1s 2ms/step - loss: 0.5789 - accuracy: 0.7323\n",
      "Epoch 98/150\n",
      "375/375 [==============================] - 1s 2ms/step - loss: 0.5788 - accuracy: 0.7328\n",
      "Epoch 99/150\n",
      "375/375 [==============================] - 1s 2ms/step - loss: 0.5786 - accuracy: 0.7331\n",
      "Epoch 100/150\n",
      "375/375 [==============================] - 1s 2ms/step - loss: 0.5785 - accuracy: 0.7329\n",
      "Epoch 101/150\n",
      "375/375 [==============================] - 1s 2ms/step - loss: 0.5781 - accuracy: 0.7331\n",
      "Epoch 102/150\n",
      "375/375 [==============================] - 1s 2ms/step - loss: 0.5786 - accuracy: 0.7326\n",
      "Epoch 103/150\n",
      "375/375 [==============================] - 1s 2ms/step - loss: 0.5783 - accuracy: 0.7329\n",
      "Epoch 104/150\n",
      "375/375 [==============================] - 1s 2ms/step - loss: 0.5779 - accuracy: 0.7327\n",
      "Epoch 105/150\n",
      "375/375 [==============================] - 1s 2ms/step - loss: 0.5777 - accuracy: 0.7329\n",
      "Epoch 106/150\n",
      "375/375 [==============================] - 1s 2ms/step - loss: 0.5786 - accuracy: 0.7326\n",
      "Epoch 107/150\n",
      "375/375 [==============================] - 1s 2ms/step - loss: 0.5784 - accuracy: 0.7325\n",
      "Epoch 108/150\n",
      "375/375 [==============================] - 1s 2ms/step - loss: 0.5776 - accuracy: 0.7333\n",
      "Epoch 109/150\n",
      "375/375 [==============================] - 1s 2ms/step - loss: 0.5776 - accuracy: 0.7329\n",
      "Epoch 110/150\n",
      "375/375 [==============================] - 1s 2ms/step - loss: 0.5774 - accuracy: 0.7336\n",
      "Epoch 111/150\n",
      "375/375 [==============================] - 1s 2ms/step - loss: 0.5774 - accuracy: 0.7330\n",
      "Epoch 112/150\n",
      "375/375 [==============================] - 1s 2ms/step - loss: 0.5777 - accuracy: 0.7333\n",
      "Epoch 113/150\n",
      "375/375 [==============================] - 1s 1ms/step - loss: 0.5776 - accuracy: 0.7335\n",
      "Epoch 114/150\n",
      "375/375 [==============================] - 1s 1ms/step - loss: 0.5767 - accuracy: 0.7335\n",
      "Epoch 115/150\n",
      "375/375 [==============================] - 1s 1ms/step - loss: 0.5783 - accuracy: 0.7328\n",
      "Epoch 116/150\n",
      "375/375 [==============================] - 1s 1ms/step - loss: 0.5768 - accuracy: 0.7336\n",
      "Epoch 117/150\n",
      "375/375 [==============================] - 1s 1ms/step - loss: 0.5766 - accuracy: 0.7342\n",
      "Epoch 118/150\n",
      "375/375 [==============================] - 1s 1ms/step - loss: 0.5770 - accuracy: 0.7331\n",
      "Epoch 119/150\n",
      "375/375 [==============================] - 1s 1ms/step - loss: 0.5769 - accuracy: 0.7334\n",
      "Epoch 120/150\n",
      "375/375 [==============================] - 1s 2ms/step - loss: 0.5766 - accuracy: 0.7339\n",
      "Epoch 121/150\n",
      "375/375 [==============================] - 1s 2ms/step - loss: 0.5776 - accuracy: 0.7332\n",
      "Epoch 122/150\n",
      "375/375 [==============================] - 1s 2ms/step - loss: 0.5767 - accuracy: 0.7340\n",
      "Epoch 123/150\n",
      "375/375 [==============================] - 1s 2ms/step - loss: 0.5769 - accuracy: 0.7341\n",
      "Epoch 124/150\n",
      "375/375 [==============================] - 1s 2ms/step - loss: 0.5766 - accuracy: 0.7339\n",
      "Epoch 125/150\n",
      "375/375 [==============================] - 1s 2ms/step - loss: 0.5767 - accuracy: 0.7340\n",
      "Epoch 126/150\n",
      "375/375 [==============================] - 1s 2ms/step - loss: 0.5762 - accuracy: 0.7348\n",
      "Epoch 127/150\n",
      "375/375 [==============================] - 1s 2ms/step - loss: 0.5766 - accuracy: 0.7336\n",
      "Epoch 128/150\n",
      "375/375 [==============================] - 1s 2ms/step - loss: 0.5764 - accuracy: 0.7343\n",
      "Epoch 129/150\n",
      "375/375 [==============================] - 1s 2ms/step - loss: 0.5760 - accuracy: 0.7343\n",
      "Epoch 130/150\n",
      "375/375 [==============================] - 1s 2ms/step - loss: 0.5769 - accuracy: 0.7340\n",
      "Epoch 131/150\n",
      "375/375 [==============================] - 1s 2ms/step - loss: 0.5758 - accuracy: 0.7346\n",
      "Epoch 132/150\n",
      "375/375 [==============================] - 1s 2ms/step - loss: 0.5759 - accuracy: 0.7343\n",
      "Epoch 133/150\n",
      "375/375 [==============================] - 1s 2ms/step - loss: 0.5768 - accuracy: 0.7344\n",
      "Epoch 134/150\n",
      "375/375 [==============================] - 1s 2ms/step - loss: 0.5760 - accuracy: 0.7347\n",
      "Epoch 135/150\n",
      "375/375 [==============================] - 1s 2ms/step - loss: 0.5767 - accuracy: 0.7341\n",
      "Epoch 136/150\n",
      "375/375 [==============================] - 1s 2ms/step - loss: 0.5757 - accuracy: 0.7351\n",
      "Epoch 137/150\n",
      "375/375 [==============================] - 1s 2ms/step - loss: 0.5758 - accuracy: 0.7347\n",
      "Epoch 138/150\n",
      "375/375 [==============================] - 1s 2ms/step - loss: 0.5758 - accuracy: 0.7346\n",
      "Epoch 139/150\n",
      "375/375 [==============================] - 1s 2ms/step - loss: 0.5759 - accuracy: 0.7346\n",
      "Epoch 140/150\n",
      "375/375 [==============================] - 1s 1ms/step - loss: 0.5756 - accuracy: 0.7351\n",
      "Epoch 141/150\n",
      "375/375 [==============================] - 1s 2ms/step - loss: 0.5755 - accuracy: 0.7344\n",
      "Epoch 142/150\n",
      "375/375 [==============================] - 1s 2ms/step - loss: 0.5754 - accuracy: 0.7351\n",
      "Epoch 143/150\n",
      "375/375 [==============================] - 1s 2ms/step - loss: 0.5766 - accuracy: 0.7337\n",
      "Epoch 144/150\n",
      "375/375 [==============================] - 1s 2ms/step - loss: 0.5750 - accuracy: 0.7354\n",
      "Epoch 145/150\n",
      "375/375 [==============================] - 1s 2ms/step - loss: 0.5760 - accuracy: 0.7349\n",
      "Epoch 146/150\n",
      "375/375 [==============================] - 1s 2ms/step - loss: 0.5752 - accuracy: 0.7351\n",
      "Epoch 147/150\n",
      "375/375 [==============================] - 1s 2ms/step - loss: 0.5752 - accuracy: 0.7350\n",
      "Epoch 148/150\n",
      "375/375 [==============================] - 1s 2ms/step - loss: 0.5754 - accuracy: 0.7350\n",
      "Epoch 149/150\n",
      "375/375 [==============================] - 1s 2ms/step - loss: 0.5757 - accuracy: 0.7346\n",
      "Epoch 150/150\n",
      "375/375 [==============================] - 1s 2ms/step - loss: 0.5765 - accuracy: 0.7349\n"
     ]
    }
   ],
   "source": [
    "# Neural Network\n",
    "\n",
    "ann = tf.keras.models.Sequential()\n",
    "ann.add(tf.keras.layers.Dense(units=12,activation=\"relu\")) \n",
    "ann.add(tf.keras.layers.Dense(units=8,activation=\"relu\")) \n",
    "ann.add(tf.keras.layers.Dense(units=8,activation=\"relu\")) \n",
    "ann.add(tf.keras.layers.Dense(units=7,activation=\"relu\")) \n",
    "ann.add(tf.keras.layers.Dense(units=1,activation=\"sigmoid\"))\n",
    "ann.compile(optimizer=\"adam\",loss=\"binary_crossentropy\",metrics=['accuracy']) \n",
    "ann.fit(X_train,y_train,batch_size=32,epochs = 150)\n",
    "ann.save(\"ANN_MachineHack_Subscriber.h5\")"
   ]
  },
  {
   "cell_type": "code",
   "execution_count": 31,
   "id": "0d24b8c9-0d6a-4e56-b229-a31a40622fad",
   "metadata": {},
   "outputs": [
    {
     "name": "stdout",
     "output_type": "stream",
     "text": [
      "282/282 [==============================] - 1s 1ms/step - loss: 0.6031 - accuracy: 0.7268\n",
      "[0.6031206250190735, 0.7268081307411194]\n"
     ]
    }
   ],
   "source": [
    "acc = ann.evaluate(X_test,y_test)\n",
    "print(acc)"
   ]
  },
  {
   "cell_type": "markdown",
   "id": "19bf44ae",
   "metadata": {},
   "source": [
    "# Using Test Dataset"
   ]
  },
  {
   "cell_type": "code",
   "execution_count": 32,
   "id": "cc214414",
   "metadata": {},
   "outputs": [],
   "source": [
    "# Creating dummies\n",
    "for col in outlier_cols:\n",
    "    outlier_capping(Z,col)\n",
    "    \n",
    "Z = pd.get_dummies(Z,columns=['job_category', 'marital', 'education','housing', 'loan',\n",
    "                                       'contact', 'month','poutcome','age_group',\n",
    "                                       'balance_range', 'week', 'call_duration', 'customer_segment'], drop_first=False)"
   ]
  },
  {
   "cell_type": "code",
   "execution_count": 33,
   "id": "64da3b17-16df-4e10-9502-6d6101b441fa",
   "metadata": {},
   "outputs": [
    {
     "name": "stdout",
     "output_type": "stream",
     "text": [
      "<class 'pandas.core.frame.DataFrame'>\n",
      "RangeIndex: 9000 entries, 0 to 8999\n",
      "Data columns (total 58 columns):\n",
      " #   Column                         Non-Null Count  Dtype  \n",
      "---  ------                         --------------  -----  \n",
      " 0   age                            9000 non-null   int64  \n",
      " 1   balance                        9000 non-null   int64  \n",
      " 2   duration                       9000 non-null   float64\n",
      " 3   campaign                       9000 non-null   int64  \n",
      " 4   job_category_admin.            9000 non-null   uint8  \n",
      " 5   job_category_blue_collar       9000 non-null   uint8  \n",
      " 6   job_category_management        9000 non-null   uint8  \n",
      " 7   job_category_retired           9000 non-null   uint8  \n",
      " 8   job_category_self_employed     9000 non-null   uint8  \n",
      " 9   job_category_technician        9000 non-null   uint8  \n",
      " 10  job_category_unemployed        9000 non-null   uint8  \n",
      " 11  marital_divorced               9000 non-null   uint8  \n",
      " 12  marital_married                9000 non-null   uint8  \n",
      " 13  marital_single                 9000 non-null   uint8  \n",
      " 14  education_primary              9000 non-null   uint8  \n",
      " 15  education_secondary            9000 non-null   uint8  \n",
      " 16  education_tertiary             9000 non-null   uint8  \n",
      " 17  education_unknown              9000 non-null   uint8  \n",
      " 18  housing_no                     9000 non-null   uint8  \n",
      " 19  housing_yes                    9000 non-null   uint8  \n",
      " 20  loan_no                        9000 non-null   uint8  \n",
      " 21  loan_yes                       9000 non-null   uint8  \n",
      " 22  contact_cellular               9000 non-null   uint8  \n",
      " 23  contact_telephone              9000 non-null   uint8  \n",
      " 24  contact_unknown                9000 non-null   uint8  \n",
      " 25  month_apr                      9000 non-null   uint8  \n",
      " 26  month_aug                      9000 non-null   uint8  \n",
      " 27  month_dec                      9000 non-null   uint8  \n",
      " 28  month_feb                      9000 non-null   uint8  \n",
      " 29  month_jan                      9000 non-null   uint8  \n",
      " 30  month_jul                      9000 non-null   uint8  \n",
      " 31  month_jun                      9000 non-null   uint8  \n",
      " 32  month_mar                      9000 non-null   uint8  \n",
      " 33  month_may                      9000 non-null   uint8  \n",
      " 34  month_nov                      9000 non-null   uint8  \n",
      " 35  month_oct                      9000 non-null   uint8  \n",
      " 36  month_sep                      9000 non-null   uint8  \n",
      " 37  poutcome_failure               9000 non-null   uint8  \n",
      " 38  poutcome_other                 9000 non-null   uint8  \n",
      " 39  poutcome_success               9000 non-null   uint8  \n",
      " 40  poutcome_unknown               9000 non-null   uint8  \n",
      " 41  age_group_Adult                9000 non-null   uint8  \n",
      " 42  age_group_Senior               9000 non-null   uint8  \n",
      " 43  age_group_Youth                9000 non-null   uint8  \n",
      " 44  balance_range_High             9000 non-null   uint8  \n",
      " 45  balance_range_Low              9000 non-null   uint8  \n",
      " 46  balance_range_Medium           9000 non-null   uint8  \n",
      " 47  balance_range_Very-High        9000 non-null   uint8  \n",
      " 48  week_Week_1                    9000 non-null   uint8  \n",
      " 49  week_Week_2                    9000 non-null   uint8  \n",
      " 50  week_Week_3                    9000 non-null   uint8  \n",
      " 51  week_Week_4                    9000 non-null   uint8  \n",
      " 52  call_duration_1-2min           9000 non-null   uint8  \n",
      " 53  call_duration_3-10min          9000 non-null   uint8  \n",
      " 54  call_duration_<1min            9000 non-null   uint8  \n",
      " 55  call_duration_>10 min          9000 non-null   uint8  \n",
      " 56  customer_segment_New_Customer  9000 non-null   uint8  \n",
      " 57  customer_segment_Old_Customer  9000 non-null   uint8  \n",
      "dtypes: float64(1), int64(3), uint8(54)\n",
      "memory usage: 756.0 KB\n"
     ]
    }
   ],
   "source": [
    "Z.info()"
   ]
  },
  {
   "cell_type": "code",
   "execution_count": 34,
   "id": "53f47de8-7380-4584-8425-b770b761cce2",
   "metadata": {},
   "outputs": [],
   "source": [
    "# Removing unwanted fields\n",
    "Z.drop(columns=['job_category_unemployed','education_unknown','contact_unknown','month_dec',\n",
    "                      'poutcome_unknown','age_group_Youth','balance_range_Low','week_Week_1',\n",
    "                      'call_duration_1-2min','call_duration_<1min','customer_segment_New_Customer'], inplace=True)"
   ]
  },
  {
   "cell_type": "code",
   "execution_count": 38,
   "id": "63e177f9-6663-46b9-b219-8b59e5165c78",
   "metadata": {},
   "outputs": [
    {
     "data": {
      "text/plain": [
       "array([0, 0, 0, ..., 0, 0, 0], dtype=int64)"
      ]
     },
     "execution_count": 38,
     "metadata": {},
     "output_type": "execute_result"
    }
   ],
   "source": [
    "# Prediction\n",
    "Z = Z[feature_list]\n",
    "\n",
    "y_pred = ada_boost.predict(Z)\n",
    "y_pred"
   ]
  },
  {
   "cell_type": "code",
   "execution_count": 39,
   "id": "5cf5ccef-e283-464f-9f60-b8a4e0c6b608",
   "metadata": {},
   "outputs": [
    {
     "data": {
      "text/plain": [
       "array([0, 1], dtype=int64)"
      ]
     },
     "execution_count": 39,
     "metadata": {},
     "output_type": "execute_result"
    }
   ],
   "source": [
    "# Result\n",
    "\n",
    "df_bank_submit = pd.read_csv(\"/MachineHack/Output Dataset/submission.csv\")\n",
    "df_bank_submit['y_bool'] = y_pred\n",
    "df_bank_submit['y_bool'].unique()"
   ]
  },
  {
   "cell_type": "code",
   "execution_count": 40,
   "id": "a6d1e092-2878-4240-a686-1897352b20d3",
   "metadata": {},
   "outputs": [],
   "source": [
    "# Storing as CSV \n",
    "df_bank_submit.to_csv(\"/MachineHack/Input Dataset/submission.csv\", index = False)"
   ]
  }
 ],
 "metadata": {
  "kernelspec": {
   "display_name": "Python 3 (ipykernel)",
   "language": "python",
   "name": "python3"
  },
  "language_info": {
   "codemirror_mode": {
    "name": "ipython",
    "version": 3
   },
   "file_extension": ".py",
   "mimetype": "text/x-python",
   "name": "python",
   "nbconvert_exporter": "python",
   "pygments_lexer": "ipython3",
   "version": "3.9.7"
  }
 },
 "nbformat": 4,
 "nbformat_minor": 5
}
