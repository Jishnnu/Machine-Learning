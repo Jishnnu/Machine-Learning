{
 "cells": [
  {
   "cell_type": "code",
   "execution_count": 42,
   "metadata": {},
   "outputs": [],
   "source": [
    "import tensorflow as tf\n",
    "# Files Processing\n",
    "import pandas as pd\n",
    "# data visulaization\n",
    "import seaborn as sns\n",
    "# data visulaization\n",
    "import matplotlib.pyplot as plt"
   ]
  },
  {
   "cell_type": "code",
   "execution_count": 44,
   "metadata": {},
   "outputs": [],
   "source": [
    "training_set = pd.read_csv('/Tensorflow/boston_train.csv')\n",
    "testing_set = pd.read_csv('/Tensorflow/boston_test.csv')\n",
    "prediction_set = pd.read_csv('/Tensorflow/boston_predict.csv')"
   ]
  },
  {
   "cell_type": "code",
   "execution_count": 45,
   "metadata": {},
   "outputs": [
    {
     "data": {
      "text/html": [
       "<div>\n",
       "<style scoped>\n",
       "    .dataframe tbody tr th:only-of-type {\n",
       "        vertical-align: middle;\n",
       "    }\n",
       "\n",
       "    .dataframe tbody tr th {\n",
       "        vertical-align: top;\n",
       "    }\n",
       "\n",
       "    .dataframe thead th {\n",
       "        text-align: right;\n",
       "    }\n",
       "</style>\n",
       "<table border=\"1\" class=\"dataframe\">\n",
       "  <thead>\n",
       "    <tr style=\"text-align: right;\">\n",
       "      <th></th>\n",
       "      <th>CRIM</th>\n",
       "      <th>ZN</th>\n",
       "      <th>INDUS</th>\n",
       "      <th>NOX</th>\n",
       "      <th>RM</th>\n",
       "      <th>AGE</th>\n",
       "      <th>DIS</th>\n",
       "      <th>TAX</th>\n",
       "      <th>PTRATIO</th>\n",
       "      <th>MEDV</th>\n",
       "    </tr>\n",
       "  </thead>\n",
       "  <tbody>\n",
       "    <tr>\n",
       "      <th>0</th>\n",
       "      <td>2.30040</td>\n",
       "      <td>0.0</td>\n",
       "      <td>19.58</td>\n",
       "      <td>0.605</td>\n",
       "      <td>6.319</td>\n",
       "      <td>96.1</td>\n",
       "      <td>2.1000</td>\n",
       "      <td>403</td>\n",
       "      <td>14.7</td>\n",
       "      <td>23.8</td>\n",
       "    </tr>\n",
       "    <tr>\n",
       "      <th>1</th>\n",
       "      <td>13.35980</td>\n",
       "      <td>0.0</td>\n",
       "      <td>18.10</td>\n",
       "      <td>0.693</td>\n",
       "      <td>5.887</td>\n",
       "      <td>94.7</td>\n",
       "      <td>1.7821</td>\n",
       "      <td>666</td>\n",
       "      <td>20.2</td>\n",
       "      <td>12.7</td>\n",
       "    </tr>\n",
       "    <tr>\n",
       "      <th>2</th>\n",
       "      <td>0.12744</td>\n",
       "      <td>0.0</td>\n",
       "      <td>6.91</td>\n",
       "      <td>0.448</td>\n",
       "      <td>6.770</td>\n",
       "      <td>2.9</td>\n",
       "      <td>5.7209</td>\n",
       "      <td>233</td>\n",
       "      <td>17.9</td>\n",
       "      <td>26.6</td>\n",
       "    </tr>\n",
       "    <tr>\n",
       "      <th>3</th>\n",
       "      <td>0.15876</td>\n",
       "      <td>0.0</td>\n",
       "      <td>10.81</td>\n",
       "      <td>0.413</td>\n",
       "      <td>5.961</td>\n",
       "      <td>17.5</td>\n",
       "      <td>5.2873</td>\n",
       "      <td>305</td>\n",
       "      <td>19.2</td>\n",
       "      <td>21.7</td>\n",
       "    </tr>\n",
       "    <tr>\n",
       "      <th>4</th>\n",
       "      <td>0.03768</td>\n",
       "      <td>80.0</td>\n",
       "      <td>1.52</td>\n",
       "      <td>0.404</td>\n",
       "      <td>7.274</td>\n",
       "      <td>38.3</td>\n",
       "      <td>7.3090</td>\n",
       "      <td>329</td>\n",
       "      <td>12.6</td>\n",
       "      <td>34.6</td>\n",
       "    </tr>\n",
       "  </tbody>\n",
       "</table>\n",
       "</div>"
      ],
      "text/plain": [
       "       CRIM    ZN  INDUS    NOX     RM   AGE     DIS  TAX  PTRATIO  MEDV\n",
       "0   2.30040   0.0  19.58  0.605  6.319  96.1  2.1000  403     14.7  23.8\n",
       "1  13.35980   0.0  18.10  0.693  5.887  94.7  1.7821  666     20.2  12.7\n",
       "2   0.12744   0.0   6.91  0.448  6.770   2.9  5.7209  233     17.9  26.6\n",
       "3   0.15876   0.0  10.81  0.413  5.961  17.5  5.2873  305     19.2  21.7\n",
       "4   0.03768  80.0   1.52  0.404  7.274  38.3  7.3090  329     12.6  34.6"
      ]
     },
     "execution_count": 45,
     "metadata": {},
     "output_type": "execute_result"
    }
   ],
   "source": [
    "training_set.head()"
   ]
  },
  {
   "cell_type": "code",
   "execution_count": 46,
   "metadata": {
    "collapsed": true
   },
   "outputs": [
    {
     "data": {
      "text/html": [
       "<div>\n",
       "<style scoped>\n",
       "    .dataframe tbody tr th:only-of-type {\n",
       "        vertical-align: middle;\n",
       "    }\n",
       "\n",
       "    .dataframe tbody tr th {\n",
       "        vertical-align: top;\n",
       "    }\n",
       "\n",
       "    .dataframe thead th {\n",
       "        text-align: right;\n",
       "    }\n",
       "</style>\n",
       "<table border=\"1\" class=\"dataframe\">\n",
       "  <thead>\n",
       "    <tr style=\"text-align: right;\">\n",
       "      <th></th>\n",
       "      <th>CRIM</th>\n",
       "      <th>ZN</th>\n",
       "      <th>INDUS</th>\n",
       "      <th>NOX</th>\n",
       "      <th>RM</th>\n",
       "      <th>AGE</th>\n",
       "      <th>DIS</th>\n",
       "      <th>TAX</th>\n",
       "      <th>PTRATIO</th>\n",
       "      <th>MEDV</th>\n",
       "    </tr>\n",
       "  </thead>\n",
       "  <tbody>\n",
       "    <tr>\n",
       "      <th>CRIM</th>\n",
       "      <td>1.000000</td>\n",
       "      <td>-0.197764</td>\n",
       "      <td>0.383433</td>\n",
       "      <td>0.407698</td>\n",
       "      <td>-0.219043</td>\n",
       "      <td>0.350003</td>\n",
       "      <td>-0.377643</td>\n",
       "      <td>0.563791</td>\n",
       "      <td>0.284306</td>\n",
       "      <td>-0.375836</td>\n",
       "    </tr>\n",
       "    <tr>\n",
       "      <th>ZN</th>\n",
       "      <td>-0.197764</td>\n",
       "      <td>1.000000</td>\n",
       "      <td>-0.532929</td>\n",
       "      <td>-0.521745</td>\n",
       "      <td>0.328418</td>\n",
       "      <td>-0.561062</td>\n",
       "      <td>0.665677</td>\n",
       "      <td>-0.323539</td>\n",
       "      <td>-0.393904</td>\n",
       "      <td>0.365931</td>\n",
       "    </tr>\n",
       "    <tr>\n",
       "      <th>INDUS</th>\n",
       "      <td>0.383433</td>\n",
       "      <td>-0.532929</td>\n",
       "      <td>1.000000</td>\n",
       "      <td>0.758157</td>\n",
       "      <td>-0.393738</td>\n",
       "      <td>0.644559</td>\n",
       "      <td>-0.717796</td>\n",
       "      <td>0.722435</td>\n",
       "      <td>0.386248</td>\n",
       "      <td>-0.465083</td>\n",
       "    </tr>\n",
       "    <tr>\n",
       "      <th>NOX</th>\n",
       "      <td>0.407698</td>\n",
       "      <td>-0.521745</td>\n",
       "      <td>0.758157</td>\n",
       "      <td>1.000000</td>\n",
       "      <td>-0.309519</td>\n",
       "      <td>0.735999</td>\n",
       "      <td>-0.776624</td>\n",
       "      <td>0.664923</td>\n",
       "      <td>0.185284</td>\n",
       "      <td>-0.410425</td>\n",
       "    </tr>\n",
       "    <tr>\n",
       "      <th>RM</th>\n",
       "      <td>-0.219043</td>\n",
       "      <td>0.328418</td>\n",
       "      <td>-0.393738</td>\n",
       "      <td>-0.309519</td>\n",
       "      <td>1.000000</td>\n",
       "      <td>-0.253271</td>\n",
       "      <td>0.211441</td>\n",
       "      <td>-0.302268</td>\n",
       "      <td>-0.395436</td>\n",
       "      <td>0.685041</td>\n",
       "    </tr>\n",
       "    <tr>\n",
       "      <th>AGE</th>\n",
       "      <td>0.350003</td>\n",
       "      <td>-0.561062</td>\n",
       "      <td>0.644559</td>\n",
       "      <td>0.735999</td>\n",
       "      <td>-0.253271</td>\n",
       "      <td>1.000000</td>\n",
       "      <td>-0.742486</td>\n",
       "      <td>0.521723</td>\n",
       "      <td>0.260205</td>\n",
       "      <td>-0.368922</td>\n",
       "    </tr>\n",
       "    <tr>\n",
       "      <th>DIS</th>\n",
       "      <td>-0.377643</td>\n",
       "      <td>0.665677</td>\n",
       "      <td>-0.717796</td>\n",
       "      <td>-0.776624</td>\n",
       "      <td>0.211441</td>\n",
       "      <td>-0.742486</td>\n",
       "      <td>1.000000</td>\n",
       "      <td>-0.555040</td>\n",
       "      <td>-0.227288</td>\n",
       "      <td>0.236714</td>\n",
       "    </tr>\n",
       "    <tr>\n",
       "      <th>TAX</th>\n",
       "      <td>0.563791</td>\n",
       "      <td>-0.323539</td>\n",
       "      <td>0.722435</td>\n",
       "      <td>0.664923</td>\n",
       "      <td>-0.302268</td>\n",
       "      <td>0.521723</td>\n",
       "      <td>-0.555040</td>\n",
       "      <td>1.000000</td>\n",
       "      <td>0.473023</td>\n",
       "      <td>-0.449570</td>\n",
       "    </tr>\n",
       "    <tr>\n",
       "      <th>PTRATIO</th>\n",
       "      <td>0.284306</td>\n",
       "      <td>-0.393904</td>\n",
       "      <td>0.386248</td>\n",
       "      <td>0.185284</td>\n",
       "      <td>-0.395436</td>\n",
       "      <td>0.260205</td>\n",
       "      <td>-0.227288</td>\n",
       "      <td>0.473023</td>\n",
       "      <td>1.000000</td>\n",
       "      <td>-0.531764</td>\n",
       "    </tr>\n",
       "    <tr>\n",
       "      <th>MEDV</th>\n",
       "      <td>-0.375836</td>\n",
       "      <td>0.365931</td>\n",
       "      <td>-0.465083</td>\n",
       "      <td>-0.410425</td>\n",
       "      <td>0.685041</td>\n",
       "      <td>-0.368922</td>\n",
       "      <td>0.236714</td>\n",
       "      <td>-0.449570</td>\n",
       "      <td>-0.531764</td>\n",
       "      <td>1.000000</td>\n",
       "    </tr>\n",
       "  </tbody>\n",
       "</table>\n",
       "</div>"
      ],
      "text/plain": [
       "             CRIM        ZN     INDUS       NOX        RM       AGE       DIS  \\\n",
       "CRIM     1.000000 -0.197764  0.383433  0.407698 -0.219043  0.350003 -0.377643   \n",
       "ZN      -0.197764  1.000000 -0.532929 -0.521745  0.328418 -0.561062  0.665677   \n",
       "INDUS    0.383433 -0.532929  1.000000  0.758157 -0.393738  0.644559 -0.717796   \n",
       "NOX      0.407698 -0.521745  0.758157  1.000000 -0.309519  0.735999 -0.776624   \n",
       "RM      -0.219043  0.328418 -0.393738 -0.309519  1.000000 -0.253271  0.211441   \n",
       "AGE      0.350003 -0.561062  0.644559  0.735999 -0.253271  1.000000 -0.742486   \n",
       "DIS     -0.377643  0.665677 -0.717796 -0.776624  0.211441 -0.742486  1.000000   \n",
       "TAX      0.563791 -0.323539  0.722435  0.664923 -0.302268  0.521723 -0.555040   \n",
       "PTRATIO  0.284306 -0.393904  0.386248  0.185284 -0.395436  0.260205 -0.227288   \n",
       "MEDV    -0.375836  0.365931 -0.465083 -0.410425  0.685041 -0.368922  0.236714   \n",
       "\n",
       "              TAX   PTRATIO      MEDV  \n",
       "CRIM     0.563791  0.284306 -0.375836  \n",
       "ZN      -0.323539 -0.393904  0.365931  \n",
       "INDUS    0.722435  0.386248 -0.465083  \n",
       "NOX      0.664923  0.185284 -0.410425  \n",
       "RM      -0.302268 -0.395436  0.685041  \n",
       "AGE      0.521723  0.260205 -0.368922  \n",
       "DIS     -0.555040 -0.227288  0.236714  \n",
       "TAX      1.000000  0.473023 -0.449570  \n",
       "PTRATIO  0.473023  1.000000 -0.531764  \n",
       "MEDV    -0.449570 -0.531764  1.000000  "
      ]
     },
     "execution_count": 46,
     "metadata": {},
     "output_type": "execute_result"
    }
   ],
   "source": [
    "training_set.corr()"
   ]
  },
  {
   "cell_type": "code",
   "execution_count": 48,
   "metadata": {
    "collapsed": true
   },
   "outputs": [
    {
     "data": {
      "text/plain": [
       "<matplotlib.axes._subplots.AxesSubplot at 0x1d212b9a7f0>"
      ]
     },
     "execution_count": 48,
     "metadata": {},
     "output_type": "execute_result"
    },
    {
     "data": {
      "image/png": "[encoded data removed]",
      "text/plain": [
       "<Figure size 864x720 with 2 Axes>"
      ]
     },
     "metadata": {
      "needs_background": "light"
     },
     "output_type": "display_data"
    }
   ],
   "source": [
    "plt.figure(figsize=(12,10))\n",
    "sns.heatmap(training_set.corr(), annot=True)"
   ]
  },
  {
   "cell_type": "code",
   "execution_count": 57,
   "metadata": {},
   "outputs": [
    {
     "data": {
      "text/plain": [
       "<matplotlib.axes._subplots.AxesSubplot at 0x1d2133e4748>"
      ]
     },
     "execution_count": 57,
     "metadata": {},
     "output_type": "execute_result"
    },
    {
     "data": {
      "image/png": "[encoded data removed]",
      "text/plain": [
       "<Figure size 576x576 with 1 Axes>"
      ]
     },
     "metadata": {},
     "output_type": "display_data"
    }
   ],
   "source": [
    "sns.set_style('darkgrid')\n",
    "plt.figure(figsize=(8,8))\n",
    "sns.distplot(training_set['MEDV'], color='darkviolet')"
   ]
  },
  {
   "cell_type": "code",
   "execution_count": 55,
   "metadata": {},
   "outputs": [],
   "source": [
    "X_train = training_set.drop('MEDV', axis = 1)"
   ]
  },
  {
   "cell_type": "code",
   "execution_count": 58,
   "metadata": {},
   "outputs": [],
   "source": [
    "Y_train = training_set['MEDV']"
   ]
  },
  {
   "cell_type": "code",
   "execution_count": 59,
   "metadata": {},
   "outputs": [],
   "source": [
    "from tensorflow import keras\n",
    "from tensorflow.keras import layers"
   ]
  },
  {
   "cell_type": "code",
   "execution_count": 85,
   "metadata": {},
   "outputs": [],
   "source": [
    "def build_model():\n",
    "    # Define the model - Sequential Model \n",
    "    # Activation function - ReLU, tf.nn.sigmoid\n",
    "    model = keras.Sequential([\n",
    "    layers.Dense(128, activation=tf.nn.relu, \n",
    "                 input_shape=[len(X_train.keys())]),\n",
    "    layers.Dense(256, activation=tf.nn.relu),\n",
    "    layers.Dense(128, activation=tf.nn.relu),\n",
    "    layers.Dense(1)\n",
    "  ])\n",
    "    # Model Optimizer - To optimize loss function\n",
    "    optimizer = tf.keras.optimizers.RMSprop(0.005)\n",
    "    #optimizer = 'adam'\n",
    "    model.compile(loss='mean_squared_error',\n",
    "                optimizer=optimizer,\n",
    "                metrics=['mean_absolute_error', \n",
    "                         'mean_squared_error'])\n",
    "    return model"
   ]
  },
  {
   "cell_type": "code",
   "execution_count": 86,
   "metadata": {},
   "outputs": [],
   "source": [
    "model = build_model()"
   ]
  },
  {
   "cell_type": "code",
   "execution_count": 87,
   "metadata": {},
   "outputs": [
    {
     "name": "stdout",
     "output_type": "stream",
     "text": [
      "_________________________________________________________________\n",
      "Layer (type)                 Output Shape              Param #   \n",
      "=================================================================\n",
      "dense_4 (Dense)              (None, 128)               1280      \n",
      "_________________________________________________________________\n",
      "dense_5 (Dense)              (None, 256)               33024     \n",
      "_________________________________________________________________\n",
      "dense_6 (Dense)              (None, 128)               32896     \n",
      "_________________________________________________________________\n",
      "dense_7 (Dense)              (None, 1)                 129       \n",
      "=================================================================\n",
      "Total params: 67,329\n",
      "Trainable params: 67,329\n",
      "Non-trainable params: 0\n",
      "_________________________________________________________________\n"
     ]
    }
   ],
   "source": [
    "model.summary()"
   ]
  },
  {
   "cell_type": "code",
   "execution_count": 88,
   "metadata": {},
   "outputs": [
    {
     "name": "stderr",
     "output_type": "stream",
     "text": [
      "C:\\ProgramData\\Anaconda3\\lib\\site-packages\\sklearn\\preprocessing\\data.py:334: DataConversionWarning: Data with input dtype int64, float64 were all converted to float64 by MinMaxScaler.\n",
      "  return self.partial_fit(X, y)\n"
     ]
    }
   ],
   "source": [
    "from sklearn.preprocessing import MinMaxScaler\n",
    "scaler = MinMaxScaler(feature_range=(0, 1))\n",
    "# Scale both the training inputs and outputs\n",
    "scaled_train = scaler.fit_transform(X_train)"
   ]
  },
  {
   "cell_type": "code",
   "execution_count": 89,
   "metadata": {},
   "outputs": [],
   "source": [
    "scaled_train_df = pd.DataFrame(scaled_train, \n",
    "                               columns=['CRIM','ZN','INDUS','NOX','RM',\n",
    "                                        'AGE','DIS','TAX','PTRATIO'])"
   ]
  },
  {
   "cell_type": "code",
   "execution_count": 90,
   "metadata": {
    "collapsed": true
   },
   "outputs": [
    {
     "name": "stdout",
     "output_type": "stream",
     "text": [
      "Train on 320 samples, validate on 80 samples\n",
      "Epoch 1/50\n",
      "320/320 [==============================] - 1s 2ms/sample - loss: 238.0057 - mean_absolute_error: 12.3178 - mean_squared_error: 238.0057 - val_loss: 217.5808 - val_mean_absolute_error: 12.4949 - val_mean_squared_error: 217.5808\n",
      "Epoch 2/50\n",
      "320/320 [==============================] - 0s 135us/sample - loss: 96.0439 - mean_absolute_error: 7.2900 - mean_squared_error: 96.0439 - val_loss: 49.3641 - val_mean_absolute_error: 5.1449 - val_mean_squared_error: 49.3641\n",
      "Epoch 3/50\n",
      "320/320 [==============================] - 0s 150us/sample - loss: 70.7459 - mean_absolute_error: 5.9986 - mean_squared_error: 70.7459 - val_loss: 44.9406 - val_mean_absolute_error: 4.7814 - val_mean_squared_error: 44.9406\n",
      "Epoch 4/50\n",
      "320/320 [==============================] - 0s 156us/sample - loss: 62.5634 - mean_absolute_error: 5.9856 - mean_squared_error: 62.5634 - val_loss: 100.1404 - val_mean_absolute_error: 8.1602 - val_mean_squared_error: 100.1404\n",
      "Epoch 5/50\n",
      "320/320 [==============================] - 0s 143us/sample - loss: 59.7065 - mean_absolute_error: 5.7368 - mean_squared_error: 59.7065 - val_loss: 29.0946 - val_mean_absolute_error: 3.6907 - val_mean_squared_error: 29.0946\n",
      "Epoch 6/50\n",
      "320/320 [==============================] - 0s 133us/sample - loss: 65.5649 - mean_absolute_error: 6.0726 - mean_squared_error: 65.5649 - val_loss: 65.9651 - val_mean_absolute_error: 6.2767 - val_mean_squared_error: 65.9651\n",
      "Epoch 7/50\n",
      "320/320 [==============================] - 0s 128us/sample - loss: 48.7541 - mean_absolute_error: 5.1563 - mean_squared_error: 48.7541 - val_loss: 45.2510 - val_mean_absolute_error: 5.6006 - val_mean_squared_error: 45.2510\n",
      "Epoch 8/50\n",
      "320/320 [==============================] - 0s 131us/sample - loss: 39.1330 - mean_absolute_error: 4.3283 - mean_squared_error: 39.1330 - val_loss: 47.5077 - val_mean_absolute_error: 5.8562 - val_mean_squared_error: 47.5077\n",
      "Epoch 9/50\n",
      "320/320 [==============================] - 0s 130us/sample - loss: 59.2000 - mean_absolute_error: 6.0066 - mean_squared_error: 59.2000 - val_loss: 70.4116 - val_mean_absolute_error: 6.7706 - val_mean_squared_error: 70.4116\n",
      "Epoch 10/50\n",
      "320/320 [==============================] - 0s 140us/sample - loss: 37.1135 - mean_absolute_error: 4.1396 - mean_squared_error: 37.1135 - val_loss: 24.1423 - val_mean_absolute_error: 3.1430 - val_mean_squared_error: 24.1423\n",
      "Epoch 11/50\n",
      "320/320 [==============================] - 0s 150us/sample - loss: 51.3927 - mean_absolute_error: 5.2466 - mean_squared_error: 51.3927 - val_loss: 26.8186 - val_mean_absolute_error: 3.5575 - val_mean_squared_error: 26.8186\n",
      "Epoch 12/50\n",
      "320/320 [==============================] - 0s 146us/sample - loss: 46.3905 - mean_absolute_error: 4.6394 - mean_squared_error: 46.3905 - val_loss: 31.8686 - val_mean_absolute_error: 4.3691 - val_mean_squared_error: 31.8686\n",
      "Epoch 13/50\n",
      "320/320 [==============================] - 0s 134us/sample - loss: 59.4810 - mean_absolute_error: 5.5967 - mean_squared_error: 59.4810 - val_loss: 24.0639 - val_mean_absolute_error: 3.3477 - val_mean_squared_error: 24.0639\n",
      "Epoch 14/50\n",
      "320/320 [==============================] - 0s 135us/sample - loss: 40.0607 - mean_absolute_error: 4.2626 - mean_squared_error: 40.0607 - val_loss: 32.6339 - val_mean_absolute_error: 3.7171 - val_mean_squared_error: 32.6339\n",
      "Epoch 15/50\n",
      "320/320 [==============================] - 0s 149us/sample - loss: 42.3580 - mean_absolute_error: 4.3820 - mean_squared_error: 42.3580 - val_loss: 23.5008 - val_mean_absolute_error: 3.1361 - val_mean_squared_error: 23.5008\n",
      "Epoch 16/50\n",
      "320/320 [==============================] - 0s 146us/sample - loss: 36.2372 - mean_absolute_error: 4.1541 - mean_squared_error: 36.2372 - val_loss: 60.1349 - val_mean_absolute_error: 6.1216 - val_mean_squared_error: 60.1349\n",
      "Epoch 17/50\n",
      "320/320 [==============================] - 0s 134us/sample - loss: 50.8459 - mean_absolute_error: 5.1936 - mean_squared_error: 50.8459 - val_loss: 23.4608 - val_mean_absolute_error: 3.0114 - val_mean_squared_error: 23.4608\n",
      "Epoch 18/50\n",
      "320/320 [==============================] - 0s 137us/sample - loss: 28.9873 - mean_absolute_error: 3.3486 - mean_squared_error: 28.9873 - val_loss: 27.9548 - val_mean_absolute_error: 3.4263 - val_mean_squared_error: 27.9548\n",
      "Epoch 19/50\n",
      "320/320 [==============================] - 0s 131us/sample - loss: 45.9731 - mean_absolute_error: 4.7305 - mean_squared_error: 45.9731 - val_loss: 22.6195 - val_mean_absolute_error: 3.2106 - val_mean_squared_error: 22.6195\n",
      "Epoch 20/50\n",
      "320/320 [==============================] - 0s 150us/sample - loss: 38.6028 - mean_absolute_error: 4.4277 - mean_squared_error: 38.6028 - val_loss: 54.6188 - val_mean_absolute_error: 5.7116 - val_mean_squared_error: 54.6188\n",
      "Epoch 21/50\n",
      "320/320 [==============================] - 0s 159us/sample - loss: 42.2981 - mean_absolute_error: 4.6277 - mean_squared_error: 42.2981 - val_loss: 39.6477 - val_mean_absolute_error: 5.2132 - val_mean_squared_error: 39.6477\n",
      "Epoch 22/50\n",
      "320/320 [==============================] - 0s 146us/sample - loss: 36.6058 - mean_absolute_error: 4.1579 - mean_squared_error: 36.6058 - val_loss: 22.2773 - val_mean_absolute_error: 2.9465 - val_mean_squared_error: 22.2773\n",
      "Epoch 23/50\n",
      "320/320 [==============================] - 0s 150us/sample - loss: 34.4367 - mean_absolute_error: 3.9865 - mean_squared_error: 34.4367 - val_loss: 40.7433 - val_mean_absolute_error: 5.3956 - val_mean_squared_error: 40.7433\n",
      "Epoch 24/50\n",
      "320/320 [==============================] - 0s 146us/sample - loss: 45.9464 - mean_absolute_error: 4.7090 - mean_squared_error: 45.9464 - val_loss: 20.7670 - val_mean_absolute_error: 2.9828 - val_mean_squared_error: 20.7670\n",
      "Epoch 25/50\n",
      "320/320 [==============================] - 0s 162us/sample - loss: 30.5549 - mean_absolute_error: 3.5938 - mean_squared_error: 30.5549 - val_loss: 31.8669 - val_mean_absolute_error: 4.5981 - val_mean_squared_error: 31.8669\n",
      "Epoch 26/50\n",
      "320/320 [==============================] - 0s 162us/sample - loss: 42.7908 - mean_absolute_error: 4.6882 - mean_squared_error: 42.7908 - val_loss: 23.5213 - val_mean_absolute_error: 2.9190 - val_mean_squared_error: 23.5213\n",
      "Epoch 27/50\n",
      "320/320 [==============================] - 0s 140us/sample - loss: 31.3500 - mean_absolute_error: 3.8498 - mean_squared_error: 31.3500 - val_loss: 21.4905 - val_mean_absolute_error: 2.8689 - val_mean_squared_error: 21.4905\n",
      "Epoch 28/50\n",
      "320/320 [==============================] - 0s 184us/sample - loss: 39.6663 - mean_absolute_error: 4.3578 - mean_squared_error: 39.6663 - val_loss: 97.6904 - val_mean_absolute_error: 9.1061 - val_mean_squared_error: 97.6904\n",
      "Epoch 29/50\n",
      "320/320 [==============================] - 0s 162us/sample - loss: 40.3680 - mean_absolute_error: 4.3601 - mean_squared_error: 40.3680 - val_loss: 26.7000 - val_mean_absolute_error: 3.8787 - val_mean_squared_error: 26.7000\n",
      "Epoch 30/50\n",
      "320/320 [==============================] - 0s 169us/sample - loss: 35.0410 - mean_absolute_error: 3.9594 - mean_squared_error: 35.0410 - val_loss: 25.2115 - val_mean_absolute_error: 3.4560 - val_mean_squared_error: 25.2115\n",
      "Epoch 31/50\n",
      "320/320 [==============================] - 0s 159us/sample - loss: 36.7732 - mean_absolute_error: 4.1664 - mean_squared_error: 36.7732 - val_loss: 29.6118 - val_mean_absolute_error: 3.5397 - val_mean_squared_error: 29.6118\n",
      "Epoch 32/50\n",
      "320/320 [==============================] - 0s 266us/sample - loss: 27.6074 - mean_absolute_error: 3.3314 - mean_squared_error: 27.6074 - val_loss: 20.5633 - val_mean_absolute_error: 3.2537 - val_mean_squared_error: 20.5633\n",
      "Epoch 33/50\n",
      "320/320 [==============================] - 0s 257us/sample - loss: 41.4910 - mean_absolute_error: 4.5164 - mean_squared_error: 41.4910 - val_loss: 28.6754 - val_mean_absolute_error: 3.4009 - val_mean_squared_error: 28.6754\n",
      "Epoch 34/50\n",
      "320/320 [==============================] - 0s 214us/sample - loss: 33.1535 - mean_absolute_error: 3.9230 - mean_squared_error: 33.1535 - val_loss: 22.3067 - val_mean_absolute_error: 3.2228 - val_mean_squared_error: 22.3067\n",
      "Epoch 35/50\n",
      "320/320 [==============================] - 0s 315us/sample - loss: 40.6051 - mean_absolute_error: 4.5200 - mean_squared_error: 40.6051 - val_loss: 21.1112 - val_mean_absolute_error: 3.2723 - val_mean_squared_error: 21.1112\n"
     ]
    },
    {
     "name": "stdout",
     "output_type": "stream",
     "text": [
      "Epoch 36/50\n",
      "320/320 [==============================] - 0s 237us/sample - loss: 29.3399 - mean_absolute_error: 3.6647 - mean_squared_error: 29.3399 - val_loss: 23.7550 - val_mean_absolute_error: 3.0191 - val_mean_squared_error: 23.7550\n",
      "Epoch 37/50\n",
      "320/320 [==============================] - 0s 162us/sample - loss: 39.0151 - mean_absolute_error: 4.3206 - mean_squared_error: 39.0151 - val_loss: 20.0878 - val_mean_absolute_error: 2.9330 - val_mean_squared_error: 20.0878\n",
      "Epoch 38/50\n",
      "320/320 [==============================] - 0s 168us/sample - loss: 32.1487 - mean_absolute_error: 3.7081 - mean_squared_error: 32.1487 - val_loss: 32.9668 - val_mean_absolute_error: 4.6152 - val_mean_squared_error: 32.9668\n",
      "Epoch 39/50\n",
      "320/320 [==============================] - 0s 149us/sample - loss: 31.5523 - mean_absolute_error: 3.7458 - mean_squared_error: 31.5523 - val_loss: 20.6013 - val_mean_absolute_error: 2.8844 - val_mean_squared_error: 20.6013\n",
      "Epoch 40/50\n",
      "320/320 [==============================] - 0s 407us/sample - loss: 38.7122 - mean_absolute_error: 4.0242 - mean_squared_error: 38.7122 - val_loss: 20.0427 - val_mean_absolute_error: 2.7325 - val_mean_squared_error: 20.0427\n",
      "Epoch 41/50\n",
      "320/320 [==============================] - 0s 233us/sample - loss: 24.2379 - mean_absolute_error: 3.0443 - mean_squared_error: 24.2379 - val_loss: 24.7044 - val_mean_absolute_error: 3.0870 - val_mean_squared_error: 24.7044\n",
      "Epoch 42/50\n",
      "320/320 [==============================] - 0s 181us/sample - loss: 36.4046 - mean_absolute_error: 4.2741 - mean_squared_error: 36.4045 - val_loss: 21.9664 - val_mean_absolute_error: 3.0031 - val_mean_squared_error: 21.9664\n",
      "Epoch 43/50\n",
      "320/320 [==============================] - 0s 174us/sample - loss: 27.9915 - mean_absolute_error: 3.5308 - mean_squared_error: 27.9915 - val_loss: 54.9701 - val_mean_absolute_error: 5.8156 - val_mean_squared_error: 54.9701\n",
      "Epoch 44/50\n",
      "320/320 [==============================] - 0s 187us/sample - loss: 37.8021 - mean_absolute_error: 4.3830 - mean_squared_error: 37.8021 - val_loss: 19.6092 - val_mean_absolute_error: 2.9529 - val_mean_squared_error: 19.6092\n",
      "Epoch 45/50\n",
      "320/320 [==============================] - 0s 178us/sample - loss: 36.1781 - mean_absolute_error: 4.4434 - mean_squared_error: 36.1781 - val_loss: 21.2364 - val_mean_absolute_error: 2.8223 - val_mean_squared_error: 21.2364\n",
      "Epoch 46/50\n",
      "320/320 [==============================] - 0s 183us/sample - loss: 25.3689 - mean_absolute_error: 2.9949 - mean_squared_error: 25.3689 - val_loss: 33.0153 - val_mean_absolute_error: 4.7554 - val_mean_squared_error: 33.0153\n",
      "Epoch 47/50\n",
      "320/320 [==============================] - 0s 152us/sample - loss: 29.0836 - mean_absolute_error: 3.6330 - mean_squared_error: 29.0836 - val_loss: 23.3133 - val_mean_absolute_error: 3.0125 - val_mean_squared_error: 23.3133\n",
      "Epoch 48/50\n",
      "320/320 [==============================] - 0s 221us/sample - loss: 30.8720 - mean_absolute_error: 3.8047 - mean_squared_error: 30.8720 - val_loss: 76.3113 - val_mean_absolute_error: 7.3046 - val_mean_squared_error: 76.3113\n",
      "Epoch 49/50\n",
      "320/320 [==============================] - 0s 293us/sample - loss: 28.0733 - mean_absolute_error: 3.4517 - mean_squared_error: 28.0733 - val_loss: 38.2053 - val_mean_absolute_error: 4.5421 - val_mean_squared_error: 38.2053\n",
      "Epoch 50/50\n",
      "320/320 [==============================] - 0s 284us/sample - loss: 33.2882 - mean_absolute_error: 4.0792 - mean_squared_error: 33.2882 - val_loss: 27.2287 - val_mean_absolute_error: 4.1443 - val_mean_squared_error: 27.2287\n"
     ]
    }
   ],
   "source": [
    "EPOCHS = 50\n",
    "## fit means training the dataset\n",
    "history = model.fit(scaled_train_df,Y_train,\n",
    "                    epochs=EPOCHS, validation_split = 0.2)"
   ]
  },
  {
   "cell_type": "code",
   "execution_count": 92,
   "metadata": {},
   "outputs": [],
   "source": [
    "X_test = testing_set.drop('MEDV', axis = 1)\n",
    "Y_test = testing_set['MEDV']"
   ]
  },
  {
   "cell_type": "code",
   "execution_count": 93,
   "metadata": {},
   "outputs": [
    {
     "name": "stderr",
     "output_type": "stream",
     "text": [
      "C:\\ProgramData\\Anaconda3\\lib\\site-packages\\sklearn\\preprocessing\\data.py:334: DataConversionWarning: Data with input dtype int64, float64 were all converted to float64 by MinMaxScaler.\n",
      "  return self.partial_fit(X, y)\n"
     ]
    }
   ],
   "source": [
    "scaled_test = scaler.fit_transform(X_test)"
   ]
  },
  {
   "cell_type": "code",
   "execution_count": 94,
   "metadata": {},
   "outputs": [],
   "source": [
    "scaled_train_df = pd.DataFrame(scaled_test, \n",
    "                               columns=['CRIM','ZN','INDUS','NOX','RM',\n",
    "                                        'AGE','DIS','TAX','PTRATIO'])"
   ]
  },
  {
   "cell_type": "code",
   "execution_count": 95,
   "metadata": {},
   "outputs": [],
   "source": [
    "# Prediction of  data from Neural Network\n",
    "Y_test_pred = model.predict(scaled_train_df)"
   ]
  },
  {
   "cell_type": "code",
   "execution_count": 96,
   "metadata": {},
   "outputs": [
    {
     "data": {
      "text/plain": [
       "array([[17.954487 ],\n",
       "       [28.6407   ],\n",
       "       [17.664124 ],\n",
       "       [28.952524 ],\n",
       "       [33.828255 ],\n",
       "       [21.753206 ],\n",
       "       [21.24533  ],\n",
       "       [18.457874 ],\n",
       "       [29.143742 ],\n",
       "       [16.931463 ],\n",
       "       [22.620743 ],\n",
       "       [15.816263 ],\n",
       "       [18.068035 ],\n",
       "       [54.294514 ],\n",
       "       [10.394419 ],\n",
       "       [14.227073 ],\n",
       "       [30.620876 ],\n",
       "       [17.285763 ],\n",
       "       [24.16605  ],\n",
       "       [16.17942  ],\n",
       "       [11.375994 ],\n",
       "       [17.422009 ],\n",
       "       [22.5639   ],\n",
       "       [ 9.672212 ],\n",
       "       [13.963035 ],\n",
       "       [17.294563 ],\n",
       "       [27.310308 ],\n",
       "       [35.330482 ],\n",
       "       [18.899826 ],\n",
       "       [19.300175 ],\n",
       "       [19.833786 ],\n",
       "       [17.365051 ],\n",
       "       [26.85091  ],\n",
       "       [29.88254  ],\n",
       "       [33.79509  ],\n",
       "       [20.40121  ],\n",
       "       [17.0344   ],\n",
       "       [42.044277 ],\n",
       "       [21.682285 ],\n",
       "       [20.665386 ],\n",
       "       [17.266117 ],\n",
       "       [22.597015 ],\n",
       "       [15.717772 ],\n",
       "       [18.43441  ],\n",
       "       [ 9.506056 ],\n",
       "       [11.989411 ],\n",
       "       [12.51099  ],\n",
       "       [17.908508 ],\n",
       "       [16.470325 ],\n",
       "       [17.186892 ],\n",
       "       [10.751627 ],\n",
       "       [15.1481495],\n",
       "       [20.46884  ],\n",
       "       [18.47673  ],\n",
       "       [23.629925 ],\n",
       "       [22.414547 ],\n",
       "       [10.087046 ],\n",
       "       [15.2571945],\n",
       "       [24.106266 ],\n",
       "       [18.069736 ],\n",
       "       [17.080112 ],\n",
       "       [13.525826 ],\n",
       "       [20.98865  ],\n",
       "       [26.535107 ],\n",
       "       [15.912291 ],\n",
       "       [ 8.941964 ],\n",
       "       [26.51649  ],\n",
       "       [21.391632 ],\n",
       "       [26.489836 ],\n",
       "       [24.023659 ],\n",
       "       [22.916592 ],\n",
       "       [20.634819 ],\n",
       "       [18.42541  ],\n",
       "       [19.237265 ],\n",
       "       [26.174248 ],\n",
       "       [ 9.929242 ],\n",
       "       [34.760807 ],\n",
       "       [ 9.447925 ],\n",
       "       [10.820658 ],\n",
       "       [15.911436 ],\n",
       "       [20.275331 ],\n",
       "       [10.512653 ],\n",
       "       [21.170925 ],\n",
       "       [19.460314 ],\n",
       "       [20.747463 ],\n",
       "       [18.806618 ],\n",
       "       [18.194921 ],\n",
       "       [11.367992 ],\n",
       "       [32.19694  ],\n",
       "       [18.358543 ],\n",
       "       [23.430693 ],\n",
       "       [19.008625 ],\n",
       "       [22.636372 ],\n",
       "       [27.91965  ],\n",
       "       [10.038976 ],\n",
       "       [23.364595 ],\n",
       "       [10.304712 ],\n",
       "       [ 9.035393 ],\n",
       "       [11.307518 ],\n",
       "       [26.049395 ]], dtype=float32)"
      ]
     },
     "execution_count": 96,
     "metadata": {},
     "output_type": "execute_result"
    }
   ],
   "source": [
    "Y_test_pred"
   ]
  },
  {
   "cell_type": "code",
   "execution_count": 97,
   "metadata": {},
   "outputs": [
    {
     "name": "stdout",
     "output_type": "stream",
     "text": [
      "16.159686182707443\n"
     ]
    }
   ],
   "source": [
    "# Mean Sqaured Error\n",
    "from sklearn.metrics import mean_squared_error\n",
    "MSE = mean_squared_error(Y_test,Y_test_pred)\n",
    "print(MSE)"
   ]
  }
 ],
 "metadata": {
  "kernelspec": {
   "display_name": "Python 3",
   "language": "python",
   "name": "python3"
  },
  "language_info": {
   "codemirror_mode": {
    "name": "ipython",
    "version": 3
   },
   "file_extension": ".py",
   "mimetype": "text/x-python",
   "name": "python",
   "nbconvert_exporter": "python",
   "pygments_lexer": "ipython3",
   "version": "3.7.4"
  }
 },
 "nbformat": 4,
 "nbformat_minor": 2
}
